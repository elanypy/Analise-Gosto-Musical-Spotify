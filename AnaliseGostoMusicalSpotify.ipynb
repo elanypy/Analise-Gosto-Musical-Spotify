{
  "nbformat": 4,
  "nbformat_minor": 0,
  "metadata": {
    "colab": {
      "name": "AnaliseGostoMusicalSpotify.ipynb",
      "provenance": [],
      "private_outputs": true,
      "authorship_tag": "ABX9TyOef1AuLRZ3FFkNmEdtAmBe",
      "include_colab_link": true
    },
    "kernelspec": {
      "name": "python3",
      "display_name": "Python 3"
    }
  },
  "cells": [
    {
      "cell_type": "markdown",
      "metadata": {
        "id": "view-in-github",
        "colab_type": "text"
      },
      "source": [
        "<a href=\"https://colab.research.google.com/github/elanypy/Analise-Gosto-Musical-Spotify/blob/master/AnaliseGostoMusicalSpotify.ipynb\" target=\"_parent\"><img src=\"https://colab.research.google.com/assets/colab-badge.svg\" alt=\"Open In Colab\"/></a>"
      ]
    },
    {
      "cell_type": "markdown",
      "metadata": {
        "id": "27xUoaMc9WMT",
        "colab_type": "text"
      },
      "source": [
        "Trabalho baseado em:https://medium.com/data-hackers/analisando-gosto-musical-com-spotify-e-data-science-8f7cbf7c9572"
      ]
    },
    {
      "cell_type": "code",
      "metadata": {
        "id": "pyvi_DaTqqoD",
        "colab_type": "code",
        "colab": {}
      },
      "source": [
        "pip install spotipy\n"
      ],
      "execution_count": 0,
      "outputs": []
    },
    {
      "cell_type": "code",
      "metadata": {
        "id": "_YabIYtGqzCj",
        "colab_type": "code",
        "colab": {}
      },
      "source": [
        "pip install wordcloud -q\n"
      ],
      "execution_count": 0,
      "outputs": []
    },
    {
      "cell_type": "code",
      "metadata": {
        "id": "DPFYmXGxq4n7",
        "colab_type": "code",
        "colab": {}
      },
      "source": [
        "import pandas as pd\n",
        "import matplotlib.pyplot as plt\n",
        "import seaborn as sns\n",
        "import spotipy\n",
        "import numpy as np\n",
        "from wordcloud import WordCloud, STOPWORDS, ImageColorGenerator\n",
        "\n",
        "sp = spotipy.Spotify()\n",
        "\n",
        "from spotipy.oauth2 import SpotifyClientCredentials \n",
        " \n",
        "cid ='**********************' \n",
        "secret = '***************' \n",
        "client_credentials_manager = SpotifyClientCredentials(client_id=cid, \n",
        "client_secret=secret) \n",
        "sp = spotipy.Spotify(client_credentials_manager=client_credentials_manager) \n",
        "sp.trace=False \n",
        "\n",
        "playlists = sp.user_playlists('elanybranches')\n",
        "#playlists"
      ],
      "execution_count": 0,
      "outputs": []
    },
    {
      "cell_type": "code",
      "metadata": {
        "id": "1zqXeRMYsdsz",
        "colab_type": "code",
        "colab": {}
      },
      "source": [
        "#COLETANDO OS DADOS DAS PLAYLISTS QUE CRIEI, PARA CADA PLAYLIST TEM UMA PAGINAÇÃO DE 0 A 100\n",
        "\n",
        "playlist = sp.user_playlist_tracks('elanybranches', '53FjzIdgnRonGgxFiVjKs3', offset=0) \n",
        "songs1 = playlist['items'] #playlist FestaParty\n",
        "\n",
        "playlist = sp.user_playlist_tracks('elanybranches', '53FjzIdgnRonGgxFiVjKs3', offset=100) \n",
        "songs2 = playlist['items'] #playlist FestaParty\n",
        "\n",
        "\n",
        "playlist = sp.user_playlist_tracks('elanybranches', '2nmoZJPZx4ayo4XqmbodkJ', offset=0) \n",
        "songs3 = playlist['items'] #playlist paraLavarLouça\n",
        "\n",
        "playlist = sp.user_playlist_tracks('elanybranches', '2nmoZJPZx4ayo4XqmbodkJ', offset=100) \n",
        "songs4 = playlist['items'] #playlist paraLavarLouça\n",
        "\n",
        "playlist = sp.user_playlist_tracks('elanybranches', '37Xg4qdZsq4arujXlUDHxO', offset=0) \n",
        "songs5 = playlist['items'] #playlist indie.sponivel\n",
        "\n",
        "playlist = sp.user_playlist_tracks('elanybranches', '37Xg4qdZsq4arujXlUDHxO', offset=100) \n",
        "songs6 = playlist['items'] #playlist indie.sponivel\n",
        "\n",
        "playlist = sp.user_playlist_tracks('elanybranches', '7cm9yaQkOcFyhK50lkogik', offset=0) \n",
        "songs7 = playlist['items'] #playlist projetando\n",
        "\n",
        "playlist = sp.user_playlist_tracks('elanybranches', '7cm9yaQkOcFyhK50lkogik', offset=100) \n",
        "songs8 = playlist['items'] #playlist projetando\n",
        "\n",
        "playlist = sp.user_playlist_tracks('elanybranches', '5TJ2AOrDWDZSofAIGGTjcP', offset=0) \n",
        "songs9= playlist['items'] #playlist nacionais\n",
        "\n",
        "playlist = sp.user_playlist_tracks('elanybranches', '5TJ2AOrDWDZSofAIGGTjcP', offset=100) \n",
        "songs10 = playlist['items'] #playlist nacionais\n",
        "\n",
        "playlist = sp.user_playlist_tracks('elanybranches', '1NHJyHAw1SFuUaGctJ3Phz', offset=0) \n",
        "songs11= playlist['items'] #playlist CURTIDAS  O RADIO\n",
        "\n",
        "playlist = sp.user_playlist_tracks('elanybranches', '1NHJyHAw1SFuUaGctJ3Phz', offset=100) \n",
        "songs12= playlist['items'] #playlist CURTIDAS  O RADIO\n",
        "\n",
        "playlist = sp.user_playlist_tracks('elanybranches', '3A5kmz6QCzj1VcA7Nt6NYM', offset=0) \n",
        "songs13= playlist['items'] #playlist s",
        "\n",
        "playlist = sp.user_playlist_tracks('elanybranches', '3A5kmz6QCzj1VcA7Nt6NYM', offset=100) \n",
        "songs14= playlist['items'] #playlist s\n",
        "\n",
        "playlist = sp.user_playlist_tracks('elanybranches', '2wmdf8xg1d2uhu0lNXFWln', offset=0) \n",
        "songs15= playlist['items'] #playlist musicascurtidas\n",
        "\n",
        "playlist = sp.user_playlist_tracks('elanybranches', '2wmdf8xg1d2uhu0lNXFWln', offset=100) \n",
        "songs16= playlist['items'] #playlist musicascurtidas\n",
        "\n",
        "songs = songs1+songs2+songs3+songs4+songs5+songs6+songs7+songs8+songs9+songs10+songs11+songs12+songs13+songs14+songs15+songs16\n",
        "\n"
      ],
      "execution_count": 0,
      "outputs": []
    },
    {
      "cell_type": "code",
      "metadata": {
        "id": "dhBKn0PZtl_7",
        "colab_type": "code",
        "colab": {}
      },
      "source": [
        "#CRIANDO O DATAFRAME\n",
        "\n",
        "df =pd.DataFrame(songs)\n",
        "df"
      ],
      "execution_count": 0,
      "outputs": []
    },
    {
      "cell_type": "code",
      "metadata": {
        "id": "F4Gd5VsLtqwX",
        "colab_type": "code",
        "colab": {}
      },
      "source": [
        "len(df)"
      ],
      "execution_count": 0,
      "outputs": []
    },
    {
      "cell_type": "code",
      "metadata": {
        "id": "A7F8oximtwFE",
        "colab_type": "code",
        "colab": {}
      },
      "source": [
        "#OBTEM OS DADOS DOS ARTISTAS, DOS ALBUNS E DAS MUSICAS\n",
        "\n",
        "musics_info = []\n",
        "artists = []\n",
        "for i, item in enumerate(songs):\n",
        "    track = item['track']\n",
        "    added_at = item['added_at']\n",
        "    try:\n",
        "      artist = sp.artist(track['artists'][0]['id'])\n",
        "    except AttributeError:\n",
        "       print('Erro ao obter dados do artista')\n",
        "    musics_info.append((track['artists'][0]['name'], track['name'], track['album']['name'], added_at, track['id']))\n",
        "    artists.append((track['artists'][0]['name'], track['artists'][0]['id'], artist['genres'], artist['popularity'] ))\n",
        "\n",
        "#print(artists)\n",
        "\n",
        "pd.set_option('display.max_rows', 50)\n",
        "musics = pd.DataFrame(musics_info, columns=('Artists', 'Name', 'Album', 'Added_At', 'Id'))\n",
        "musics"
      ],
      "execution_count": 0,
      "outputs": []
    },
    {
      "cell_type": "code",
      "metadata": {
        "id": "wDC0DLkewECG",
        "colab_type": "code",
        "colab": {}
      },
      "source": [
        "#CRIA UM DATAFRAME COM NOME DO ARTISTA, O ID, GENERO E A POPULARIDADE \n",
        "\n",
        "df_artists = pd.DataFrame(artists, columns=('Name', 'Id', 'Genres', 'Popularity'))\n",
        "df_artists"
      ],
      "execution_count": 0,
      "outputs": []
    },
    {
      "cell_type": "code",
      "metadata": {
        "id": "n5WAkuZlwIdD",
        "colab_type": "code",
        "colab": {}
      },
      "source": [
        "len(df_artists['Name'].unique().tolist())"
      ],
      "execution_count": 0,
      "outputs": []
    },
    {
      "cell_type": "code",
      "metadata": {
        "id": "AX1EECDCwMfY",
        "colab_type": "code",
        "colab": {}
      },
      "source": [
        "#CRIA UMA LISTA COM OS GENEROS MUSICAIS\n",
        "\n",
        "genres = []\n",
        "for index, row in df_artists.iterrows():\n",
        "    for i, item in enumerate(row['Genres']):\n",
        "      genres.append(item)\n",
        "\n",
        "genres_df = pd.DataFrame(genres, columns =['Count'])\n",
        "genres_df"
      ],
      "execution_count": 0,
      "outputs": []
    },
    {
      "cell_type": "code",
      "metadata": {
        "id": "s756sRdrwP-U",
        "colab_type": "code",
        "colab": {}
      },
      "source": [
        "#CONTAILIZA ESSE DATAFRAME \n",
        "\n",
        "genres_df['Count'].value_counts()"
      ],
      "execution_count": 0,
      "outputs": []
    },
    {
      "cell_type": "code",
      "metadata": {
        "id": "PbgHpwnTwUPP",
        "colab_type": "code",
        "colab": {}
      },
      "source": [
        "#APRESENTA O TOP 20 DE ARTISTAS\n",
        "\n",
        "musics['Artists'].value_counts().head(20)"
      ],
      "execution_count": 0,
      "outputs": []
    },
    {
      "cell_type": "code",
      "metadata": {
        "id": "0y82AtZAwYwe",
        "colab_type": "code",
        "colab": {}
      },
      "source": [
        "#TOP 20 DE ALBUNS MUSICAIS\n",
        "\n",
        "musics['Album'].value_counts().head(20)\n"
      ],
      "execution_count": 0,
      "outputs": []
    },
    {
      "cell_type": "code",
      "metadata": {
        "id": "dBAiYTphweD-",
        "colab_type": "code",
        "colab": {}
      },
      "source": [
        "#APRESENTA O GRÁFICO DOS 100 BANDAS MAIS ESCUTADAS\n",
        "\n",
        "names = list(musics['Artists'].value_counts().keys())[:100]\n",
        "values = list(musics['Artists'].value_counts())[:100]\n",
        "\n",
        "fig, axs = plt.subplots(figsize=(35,8))\n",
        "axs.bar(names, values)\n",
        "plt.xticks(rotation=90);\n",
        "fig.suptitle('Bandas');"
      ],
      "execution_count": 0,
      "outputs": []
    },
    {
      "cell_type": "code",
      "metadata": {
        "id": "2V6cVmcSwkKQ",
        "colab_type": "code",
        "colab": {}
      },
      "source": [
        "#20 BANDAS MAIS ESCUTADAS\n",
        "\n",
        "names = list(musics['Artists'].value_counts().head(10).keys())\n",
        "values = list(musics['Artists'].value_counts().head(10))\n",
        "\n",
        "fig, axs = plt.subplots()\n",
        "axs.bar(names, values)\n",
        "plt.xticks(rotation=90);\n",
        "fig.suptitle('Bandas');"
      ],
      "execution_count": 0,
      "outputs": []
    },
    {
      "cell_type": "code",
      "metadata": {
        "id": "FSu3m1V_wpTk",
        "colab_type": "code",
        "colab": {}
      },
      "source": [
        "#TOP 10 DE ALBUNS \n",
        "\n",
        "names = list(musics['Album'].value_counts().head(10).keys())\n",
        "values = list(musics['Album'].value_counts().head(10))\n",
        "\n",
        "fig, axs = plt.subplots()\n",
        "axs.bar(names, values)\n",
        "plt.xticks(rotation=90);\n",
        "fig.suptitle('Albuns');"
      ],
      "execution_count": 0,
      "outputs": []
    },
    {
      "cell_type": "code",
      "metadata": {
        "id": "CaBgWjMXwsu6",
        "colab_type": "code",
        "colab": {}
      },
      "source": [
        "#TOP 100 DE GENERSOS MUSICAIS\n",
        "\n",
        "names = list(genres_df['Count'].value_counts().keys())[:100]\n",
        "values = list(genres_df['Count'].value_counts())[:100]\n",
        "\n",
        "fig, axs = plt.subplots(figsize=(35,8))\n",
        "axs.bar(names, values)\n",
        "plt.xticks(rotation=90);\n",
        "fig.suptitle('Generos');"
      ],
      "execution_count": 0,
      "outputs": []
    },
    {
      "cell_type": "code",
      "metadata": {
        "id": "yJonWzenw2ip",
        "colab_type": "code",
        "colab": {}
      },
      "source": [
        "#20 ESTILOS MAIS PRESENTES\n",
        "\n",
        "names = list(genres_df['Count'].value_counts().head(20).keys())\n",
        "values = list(genres_df['Count'].value_counts().head(20))\n",
        "\n",
        "fig, axs = plt.subplots(figsize=(10,8))\n",
        "axs.bar(names, values)\n",
        "plt.xticks(rotation=90);\n",
        "fig.suptitle('Generos');"
      ],
      "execution_count": 0,
      "outputs": []
    },
    {
      "cell_type": "code",
      "metadata": {
        "id": "6_jdkZwOw7JC",
        "colab_type": "code",
        "colab": {}
      },
      "source": [
        "#BANDAS MAIS POPULARES DO SPOTIFY\n",
        "\n",
        "df_artists = df_artists.sort_values(by=['Popularity'], ascending=False)\n",
        "\n",
        "names = df_artists['Name'].head(132)\n",
        "values =  df_artists['Popularity'].head(132)\n",
        "\n",
        "fig, axs = plt.subplots(figsize=(8,6))\n",
        "axs.bar(names, values)\n",
        "plt.xticks(rotation=90);\n",
        "fig.suptitle('Popularidade');"
      ],
      "execution_count": 0,
      "outputs": []
    },
    {
      "cell_type": "code",
      "metadata": {
        "id": "NqNY6L0exMWV",
        "colab_type": "code",
        "colab": {}
      },
      "source": [
        "all_summary = \" \".join(s for s in musics['Artists'])\n",
        "\n",
        "print(\"Quantidade de Palavras: {}\".format(len(all_summary)))"
      ],
      "execution_count": 0,
      "outputs": []
    },
    {
      "cell_type": "code",
      "metadata": {
        "id": "82WoyNmCxQ-G",
        "colab_type": "code",
        "colab": {}
      },
      "source": [
        "# gerar uma wordcloud\n",
        "wordcloud = WordCloud(background_color=\"black\",\n",
        "                      width=1600, height=800, colormap=\"Blues\").generate(all_summary)\n",
        "\n",
        "# mostrar a imagem final\n",
        "fig, ax = plt.subplots(figsize=(20,10))\n",
        "ax.imshow(wordcloud, interpolation='bilinear')\n",
        "ax.set_axis_off()\n",
        "\n",
        "plt.imshow(wordcloud)\n",
        "wordcloud.to_file(\"bandas_spotify_elanybranches.png\");"
      ],
      "execution_count": 0,
      "outputs": []
    }
  ]
}
